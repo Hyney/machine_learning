{
 "cells": [
  {
   "cell_type": "code",
   "execution_count": 1,
   "metadata": {},
   "outputs": [],
   "source": [
    "import pandas as pd\n",
    "import numpy as np"
   ]
  },
  {
   "cell_type": "code",
   "execution_count": 2,
   "metadata": {},
   "outputs": [],
   "source": [
    "# 数据读取\n",
    "navigation = pd.read_csv('./data/navigation.csv')\n",
    "sales = pd.read_csv('./data/sales.csv')\n",
    "train = pd.read_csv('./data/train.csv')\n",
    "test = pd.read_csv('./data/test.csv')\n",
    "vimages = pd.read_csv('./data/vimages.csv')"
   ]
  },
  {
   "cell_type": "markdown",
   "metadata": {},
   "source": [
    "#### 获取不同颜色产品的平均指标"
   ]
  },
  {
   "cell_type": "code",
   "execution_count": 3,
   "metadata": {},
   "outputs": [],
   "source": [
    "product_descriptor = [\n",
    "    'product_type', 'product_gender', 'macro_function', 'function', 'sub_function',\n",
    "    'model', 'aesthetic_sub_line', 'macro_material', 'month'\n",
    "]"
   ]
  },
  {
   "cell_type": "code",
   "execution_count": 4,
   "metadata": {},
   "outputs": [],
   "source": [
    "product_target = train.groupby(product_descriptor)['target']\n",
    "product_target_sum = product_target.sum().reset_index(name='sum_target')\n",
    "product_target_count = product_target.count().reset_index(name='count_target')\n",
    "product_target_stats = pd.merge(product_target_sum, product_target_count, on=product_descriptor)"
   ]
  },
  {
   "cell_type": "code",
   "execution_count": 5,
   "metadata": {},
   "outputs": [],
   "source": [
    "train = train.merge(product_target_stats, on=product_descriptor, how='left')\n",
    "test = test.merge(product_target_stats, on=product_descriptor, how='left')\n",
    "\n",
    "train['mean_target'] = (train['sum_target']) / (train['count_target'])\n",
    "test['mean_target'] = test['sum_target'] / test['count_target']"
   ]
  },
  {
   "cell_type": "markdown",
   "source": [
    "#### 统计不同访问源的数量"
   ],
   "metadata": {
    "collapsed": false
   }
  },
  {
   "cell_type": "code",
   "execution_count": 22,
   "metadata": {},
   "outputs": [
    {
     "data": {
      "text/plain": [
       "Index(['product_type', 'product_gender', 'macro_function', 'function',\n",
       "       'sub_function', 'model', 'aesthetic_sub_line', 'macro_material',\n",
       "       'month', 'sum_target', 'count_target'],\n",
       "      dtype='object')"
      ]
     },
     "execution_count": 22,
     "metadata": {},
     "output_type": "execute_result"
    }
   ],
   "source": [
    "traffic_source_views = navigation.groupby(['sku_hash', 'traffic_source'])['page_views'].sum().reset_index()\n",
    "\n",
    "traffic_source_views.pivot(index='sku_hash', columns='traffic_source', values='page_views').reset_index()\n",
    "traffic_source_views.columns = ['sku_hash', 'page_views_nav1', 'page_views_nav2', 'page_views_nav3',\n",
    "                          'page_views_nav4', 'page_view_nav5', 'page_views_nav6']\n"
   ]
  },
  {
   "cell_type": "markdown",
   "metadata": {
    "scrolled": true,
    "pycharm": {
     "name": "#%% md\n"
    }
   },
   "source": [
    "#### 统计不同类型的销售数量"
   ]
  }
 ],
 "metadata": {
  "kernelspec": {
   "display_name": "Python 3",
   "language": "python",
   "name": "python3"
  },
  "language_info": {
   "codemirror_mode": {
    "name": "ipython",
    "version": 3
   },
   "file_extension": ".py",
   "mimetype": "text/x-python",
   "name": "python",
   "nbconvert_exporter": "python",
   "pygments_lexer": "ipython3",
   "version": "3.7.4"
  }
 },
 "nbformat": 4,
 "nbformat_minor": 4
}