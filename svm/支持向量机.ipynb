{
 "cells": [
  {
   "cell_type": "markdown",
   "metadata": {
    "collapsed": true,
    "pycharm": {
     "name": "#%% md\n"
    }
   },
   "source": [
    "### 支持向量机(Support Vector Machine)\n",
    "- 要解决的问题：什么样的决策边界才是最好的？\n",
    "- 特征数据本身如果就很难分，怎么办？\n",
    "- 计算复杂度怎么样？能否实际应用\n",
    "- 目标：基于上述问题对SVM进行推导\n",
    "#### 决策边界：选出来离雷区最远的(雷区就是边界上的点，要Large Margin)"
   ]
  },
  {
   "cell_type": "code",
   "execution_count": null,
   "outputs": [],
   "source": [
    "\n"
   ],
   "metadata": {
    "collapsed": false,
    "pycharm": {
     "name": "#%%\n"
    }
   }
  }
 ],
 "metadata": {
  "kernelspec": {
   "display_name": "Python 3",
   "language": "python",
   "name": "python3"
  },
  "language_info": {
   "codemirror_mode": {
    "name": "ipython",
    "version": 2
   },
   "file_extension": ".py",
   "mimetype": "text/x-python",
   "name": "python",
   "nbconvert_exporter": "python",
   "pygments_lexer": "ipython2",
   "version": "2.7.6"
  }
 },
 "nbformat": 4,
 "nbformat_minor": 0
}